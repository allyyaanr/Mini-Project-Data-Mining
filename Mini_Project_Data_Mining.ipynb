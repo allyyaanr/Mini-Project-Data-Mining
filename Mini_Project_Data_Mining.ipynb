{
  "nbformat": 4,
  "nbformat_minor": 0,
  "metadata": {
    "colab": {
      "provenance": [],
      "authorship_tag": "ABX9TyNd0GstOBgNOgaVThohkRw1",
      "include_colab_link": true
    },
    "kernelspec": {
      "name": "python3",
      "display_name": "Python 3"
    },
    "language_info": {
      "name": "python"
    }
  },
  "cells": [
    {
      "cell_type": "markdown",
      "metadata": {
        "id": "view-in-github",
        "colab_type": "text"
      },
      "source": [
        "<a href=\"https://colab.research.google.com/github/allyyaanr/Mini-Project-Data-Mining/blob/main/Mini_Project_Data_Mining.ipynb\" target=\"_parent\"><img src=\"https://colab.research.google.com/assets/colab-badge.svg\" alt=\"Open In Colab\"/></a>"
      ]
    },
    {
      "cell_type": "markdown",
      "source": [
        "#**Technical specifications, ratings, and prices for 1000 laptops from Flipkart / Spesifikasi teknis, rating, dan harga 1000 laptop dari Flipkart**\n",
        "\n",
        "##***Business Understanding***\n",
        "\n",
        "\n",
        "1.\t*Businesses Objective* (Tujuan atu Sasaran Bisnis)\n",
        "\n",
        "Dataset ini dibuat untuk memberikan edukasi kepada *customer* seputar informasi tentang 1000 laptop yang tersedia di situs *e-commerce* Flipkart di India. Dataset ini memberikan pandangan komprehensif tentang pasar laptop di India dan dapat digunakan untuk analisis, penelitian, atau tujuan lainnya. Maka dari itu, dataset ini berguna untuk semua kalangan pengguna. Selain itu, dibuatnya dataset ini untuk menjadi patokan para *customer* sebelum membeli.\n",
        "\n",
        "\n",
        "2.\t*Assess Situation* (Penilaian Situasi)\n",
        "\n",
        "Dalam era digital saat ini, laptop menjadi alat penting untuk pekerjaan, pendidikan, dan hiburan sehingga *customer* laptop meningkat. Dataset ini membantu memberikan data-data Data-data yang diberikan mencakup spesifikasi teknis seperti jenis prosesor, ukuran RAM, kapasitas hard drive, ukuran dan resolusi layar, serta sistem operasi. Selain itu, dataset ini mencakup peringkat dan ulasan *customer*, serta informasi harga.  Dengan dibuatnya dataset tersebut menguntungkan dan membantu *customer* sehinggan para *customer* tidak perlu khawatir lagi salah membeli laptop.\n",
        "\n",
        "\n",
        "3.\t*Data Mining Goals* (Tujuan atu Sasaran dari Penggalian Data)\n",
        "\n",
        "Penggalian data dari dataset ini memiliki sejumlah tujuan yang dirancang untuk memberikan edukasi mendalam tentang pasar laptop di India melalui pandangan teknis, ulasan pelanggan, dan faktor harga.\n",
        "\n",
        "Pertama, tujuan utama adalah membagi laptop berdasarkan spesifikasi teknisnya ke dalam kategori harga yang relevan. Tujuannya adalah untuk membantu pemangku kepentingan, termasuk produsen dan pengecer, memahami hubungan antara fitur teknis laptop dan harganya. Untuk menemukan strategi penetapan harga yang lebih efisien, memaksimalkan keuntungan, dan menarik customer dengan berbagai preferensi, klasifikasi ini dapat berguna.\n",
        "\n",
        "Kedua, tujuan penggalian data adalah untuk menemukan hubungan antara spesifikasi laptop dan tingkat kepuasan *customer*. Seseorang dapat memperoleh edukasi yang lebih baik tentang fitur atau kombinasi fitur yang paling berpengaruh terhadap kepuasan *customer* dengan melihat ulasan dan peringkat yang disediakan dalam dataset. Produsen dapat menggunakan informasi ini untuk meningkatkan desain produk mereka atau pengecer dapat menggunakannya untuk membuat strategi pemasaran yang lebih fokus.\n",
        "\n",
        "Ketiga, tujuan tambahan adalah membuat model regresi untuk memahami hubungan antara spesifikasi teknis dan harga laptop. Ini akan memberikan edukasi lebih lanjut tentang bagaimana variabel seperti tipe prosesor, kapasitas RAM, atau ukuran layar berkontribusi terhadap harga laptop. Ada kemungkinan bahwa analisis ini akan berfungsi sebagai dasar untuk kebijakan penetapan harga yang lebih cerdas dan beradaptasi dengan dinamika pasar.\n",
        "\n",
        "Keseluruhan, tujuan-tujuan ini memiliki potensi untuk memberikan wawasan yang komprehensif dan mendalam mengenai pasar laptop India, memungkinkan perusahaan untuk mengambil keputusan yang lebih terinformasi dan responsif terhadap perubahan dalam preferensi dan kebutuhan konsumen.\n",
        "\n",
        "4.\tProject Plan (Rencana Proyek)\n",
        "\n",
        "Rencana proyek ini mencakup sejumlah langkah yang terstruktur, dimulai dengan pengumpulan data tambahan untuk meningkatkan ketelitian analisis. Langkah selanjutnya mencakup pembersihan dan preprocessing data untuk memastikan bahwa informasi yang ada konsisten dan akurat. Pola dan hubungan dalam kumpulan data akan ditemukan dengan menggunakan algoritma penggalian data seperti klasifikasi, asosiasi, dan regresi. Setelah itu, hasil analisis akan dianalisis lebih lanjut untuk mendapatkan pemahaman yang lebih baik tentang pasar. Sangat penting untuk menyampaikan hasil penggalian data kepada pembuat keputusan dan pemangku kepentingan. Setelah itu, strategi bisnis yang didasarkan pada temuan ini akan diterapkan. Tujuan dari proses ini adalah untuk memberikan panduan yang dapat diukur dan tangguh untuk menjawab tantangan dan peluang yang ada di pasar laptop India.\n",
        "\n"
      ],
      "metadata": {
        "id": "ZLlJ0eJq2UOO"
      }
    }
  ]
}